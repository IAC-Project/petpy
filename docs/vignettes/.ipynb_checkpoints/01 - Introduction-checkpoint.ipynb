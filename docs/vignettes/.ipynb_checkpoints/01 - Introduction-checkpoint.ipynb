{
 "cells": [
  {
   "cell_type": "markdown",
   "metadata": {},
   "source": [
    "# Introduction to petpy"
   ]
  },
  {
   "cell_type": "markdown",
   "metadata": {},
   "source": [
    "This notebook introduces the `petpy` package and how to authenticate and interface with the Petfinder API. More information on the Petfinder API itself can be found on their [documentation page](https://www.petfinder.com/developers/api-docs#methods)."
   ]
  },
  {
   "cell_type": "markdown",
   "metadata": {},
   "source": [
    "# Table of Contents"
   ]
  },
  {
   "cell_type": "markdown",
   "metadata": {},
   "source": [
    "* [Installing petpy and Obtaining an API key](#installation)\n",
    "* [Examples using the `petpy` package](#examples)\n",
    "    - [Extracting breeds of animals available in the Petfinder database](#breeds.list)\n",
    "    - [Finding and returning random Petfinder pet records](#pet.getRandom)\n",
    "    - [Return a pet record associated with a specific petId](#pet.get)"
   ]
  },
  {
   "cell_type": "markdown",
   "metadata": {},
   "source": [
    "<a id='installation'></a>"
   ]
  },
  {
   "cell_type": "markdown",
   "metadata": {},
   "source": [
    "## Installation"
   ]
  },
  {
   "cell_type": "markdown",
   "metadata": {},
   "source": [
    "If not already installed, install `petpy` using `pip`:\n",
    "\n",
    "``pip install petpy``\n",
    "\n",
    "Then, import the package."
   ]
  },
  {
   "cell_type": "code",
   "execution_count": 1,
   "metadata": {
    "collapsed": true
   },
   "outputs": [],
   "source": [
    "import petpy"
   ]
  },
  {
   "cell_type": "markdown",
   "metadata": {},
   "source": [
    "The Petfinder API requires an API key to authenticate access. To receive an API key, register with Petfinder on their developer page: https://www.petfinder.com/developers/api-key\n",
    "\n",
    "The API key received from Petfinder is then used to authenticate the `Petfinder` class in `petpy`."
   ]
  },
  {
   "cell_type": "code",
   "execution_count": 2,
   "metadata": {
    "collapsed": true
   },
   "outputs": [],
   "source": [
    "key = 'b98692e026dab0ad0844a1000e6d8f6e'"
   ]
  },
  {
   "cell_type": "code",
   "execution_count": 3,
   "metadata": {
    "collapsed": false
   },
   "outputs": [],
   "source": [
    "pf = petpy.Petfinder(key)"
   ]
  },
  {
   "cell_type": "markdown",
   "metadata": {},
   "source": [
    "The `pf` variable is the initialized Petfinder class with our given API key. We can now use this instance to interact with and extract data from the Petfinder API."
   ]
  },
  {
   "cell_type": "markdown",
   "metadata": {},
   "source": [
    "<a id='#examples'></a>"
   ]
  },
  {
   "cell_type": "markdown",
   "metadata": {},
   "source": [
    "## Examples using the `petpy` package"
   ]
  },
  {
   "cell_type": "markdown",
   "metadata": {},
   "source": [
    "The following examples demonstrate some simple usage of using `petpy` to interact with and pull data from the Petfinder database. `petpy` contains methods for coercing the returned API results into a pandas DataFrame for easier data analysis and exporting the results into more common formats such as .csv or Excel. More examples of how to use `petpy` in conjunction with the Python scientific computing stack (Scipy, Numpy, pandas, scikit-learn, etc.) to analyze the results can be found in the later chapters of this introduction."
   ]
  },
  {
   "cell_type": "markdown",
   "metadata": {},
   "source": [
    "<a id='breed.list'></a>"
   ]
  },
  {
   "cell_type": "markdown",
   "metadata": {},
   "source": [
    "### Getting Animal Breeds"
   ]
  },
  {
   "cell_type": "markdown",
   "metadata": {},
   "source": [
    "Pulling the list of animal breeds from the Petfinder database is straightforward with `petpy`. Let's say we are interested in finding the available breeds of cats:"
   ]
  },
  {
   "cell_type": "code",
   "execution_count": 4,
   "metadata": {
    "collapsed": false
   },
   "outputs": [],
   "source": [
    "cats = pf.breed_list('cat')"
   ]
  },
  {
   "cell_type": "markdown",
   "metadata": {},
   "source": [
    "The default return format is JSON, but can be changed to XML by setting the default parameter `outputformat` to 'xml'."
   ]
  },
  {
   "cell_type": "code",
   "execution_count": 5,
   "metadata": {
    "collapsed": false
   },
   "outputs": [
    {
     "data": {
      "text/plain": [
       "{'@encoding': 'iso-8859-1',\n",
       " '@version': '1.0',\n",
       " 'petfinder': {'@xmlns:xsi': 'http://www.w3.org/2001/XMLSchema-instance',\n",
       "  '@xsi:noNamespaceSchemaLocation': 'http://api.petfinder.com/schemas/0.9/petfinder.xsd',\n",
       "  'breeds': {'@animal': 'cat',\n",
       "   'breed': [{'$t': 'Abyssinian'},\n",
       "    {'$t': 'American Curl'},\n",
       "    {'$t': 'American Shorthair'},\n",
       "    {'$t': 'American Wirehair'},\n",
       "    {'$t': 'Applehead Siamese'},\n",
       "    {'$t': 'Balinese'},\n",
       "    {'$t': 'Bengal'},\n",
       "    {'$t': 'Birman'},\n",
       "    {'$t': 'Bobtail'},\n",
       "    {'$t': 'Bombay'},\n",
       "    {'$t': 'British Shorthair'},\n",
       "    {'$t': 'Burmese'},\n",
       "    {'$t': 'Burmilla'},\n",
       "    {'$t': 'Calico'},\n",
       "    {'$t': 'Canadian Hairless'},\n",
       "    {'$t': 'Chartreux'},\n",
       "    {'$t': 'Chausie'},\n",
       "    {'$t': 'Chinchilla'},\n",
       "    {'$t': 'Cornish Rex'},\n",
       "    {'$t': 'Cymric'},\n",
       "    {'$t': 'Devon Rex'},\n",
       "    {'$t': 'Dilute Calico'},\n",
       "    {'$t': 'Dilute Tortoiseshell'},\n",
       "    {'$t': 'Domestic Long Hair'},\n",
       "    {'$t': 'Domestic Long Hair (Black & White)'},\n",
       "    {'$t': 'Domestic Long Hair (Black)'},\n",
       "    {'$t': 'Domestic Long Hair (Brown)'},\n",
       "    {'$t': 'Domestic Long Hair (Buff & White)'},\n",
       "    {'$t': 'Domestic Long Hair (Buff)'},\n",
       "    {'$t': 'Domestic Long Hair (Gray & White)'},\n",
       "    {'$t': 'Domestic Long Hair (Gray)'},\n",
       "    {'$t': 'Domestic Long Hair (Orange & White)'},\n",
       "    {'$t': 'Domestic Long Hair (Orange)'},\n",
       "    {'$t': 'Domestic Long Hair (White)'},\n",
       "    {'$t': 'Domestic Medium Hair'},\n",
       "    {'$t': 'Domestic Medium Hair (Black & White)'},\n",
       "    {'$t': 'Domestic Medium Hair (Black)'},\n",
       "    {'$t': 'Domestic Medium Hair (Brown)'},\n",
       "    {'$t': 'Domestic Medium Hair (Buff & White)'},\n",
       "    {'$t': 'Domestic Medium Hair (Buff)'},\n",
       "    {'$t': 'Domestic Medium Hair (Gray & White)'},\n",
       "    {'$t': 'Domestic Medium Hair (Gray)'},\n",
       "    {'$t': 'Domestic Medium Hair (Orange & White)'},\n",
       "    {'$t': 'Domestic Medium Hair (Orange)'},\n",
       "    {'$t': 'Domestic Medium Hair (White)'},\n",
       "    {'$t': 'Domestic Short Hair'},\n",
       "    {'$t': 'Domestic Short Hair (Black & White)'},\n",
       "    {'$t': 'Domestic Short Hair (Black)'},\n",
       "    {'$t': 'Domestic Short Hair (Brown)'},\n",
       "    {'$t': 'Domestic Short Hair (Buff & White)'},\n",
       "    {'$t': 'Domestic Short Hair (Buff)'},\n",
       "    {'$t': 'Domestic Short Hair (Gray & White)'},\n",
       "    {'$t': 'Domestic Short Hair (Gray)'},\n",
       "    {'$t': 'Domestic Short Hair (Mitted)'},\n",
       "    {'$t': 'Domestic Short Hair (Orange & White)'},\n",
       "    {'$t': 'Domestic Short Hair (Orange)'},\n",
       "    {'$t': 'Domestic Short Hair (White)'},\n",
       "    {'$t': 'Egyptian Mau'},\n",
       "    {'$t': 'Exotic Shorthair'},\n",
       "    {'$t': 'Extra-Toes Cat / Hemingway Polydactyl'},\n",
       "    {'$t': 'Havana'},\n",
       "    {'$t': 'Himalayan'},\n",
       "    {'$t': 'Japanese Bobtail'},\n",
       "    {'$t': 'Javanese'},\n",
       "    {'$t': 'Korat'},\n",
       "    {'$t': 'LaPerm'},\n",
       "    {'$t': 'Maine Coon'},\n",
       "    {'$t': 'Manx'},\n",
       "    {'$t': 'Munchkin'},\n",
       "    {'$t': 'Nebelung'},\n",
       "    {'$t': 'Norwegian Forest Cat'},\n",
       "    {'$t': 'Ocicat'},\n",
       "    {'$t': 'Oriental Long Hair'},\n",
       "    {'$t': 'Oriental Short Hair'},\n",
       "    {'$t': 'Oriental Tabby'},\n",
       "    {'$t': 'Persian'},\n",
       "    {'$t': 'Pixie-Bob'},\n",
       "    {'$t': 'Ragamuffin'},\n",
       "    {'$t': 'Ragdoll'},\n",
       "    {'$t': 'Russian Blue'},\n",
       "    {'$t': 'Scottish Fold'},\n",
       "    {'$t': 'Selkirk Rex'},\n",
       "    {'$t': 'Siamese'},\n",
       "    {'$t': 'Siberian'},\n",
       "    {'$t': 'Silver'},\n",
       "    {'$t': 'Singapura'},\n",
       "    {'$t': 'Snowshoe'},\n",
       "    {'$t': 'Somali'},\n",
       "    {'$t': 'Sphynx / Hairless Cat'},\n",
       "    {'$t': 'Tabby'},\n",
       "    {'$t': 'Tabby (Black)'},\n",
       "    {'$t': 'Tabby (Brown)'},\n",
       "    {'$t': 'Tabby (Buff)'},\n",
       "    {'$t': 'Tabby (Gray)'},\n",
       "    {'$t': 'Tabby (Orange)'},\n",
       "    {'$t': 'Tabby (White)'},\n",
       "    {'$t': 'Tiger'},\n",
       "    {'$t': 'Tonkinese'},\n",
       "    {'$t': 'Torbie'},\n",
       "    {'$t': 'Tortoiseshell'},\n",
       "    {'$t': 'Turkish Angora'},\n",
       "    {'$t': 'Turkish Van'},\n",
       "    {'$t': 'Tuxedo'}]},\n",
       "  'header': {'status': {'code': {'$t': '100'}, 'message': {}},\n",
       "   'timestamp': {'$t': '2017-11-18T16:24:16Z'},\n",
       "   'version': {'$t': '0.1'}}}}"
      ]
     },
     "execution_count": 5,
     "metadata": {},
     "output_type": "execute_result"
    }
   ],
   "source": [
    "cats"
   ]
  },
  {
   "cell_type": "markdown",
   "metadata": {},
   "source": [
    "The `return_df` parameter can also be set to True to coerce the results into a pandas DataFrame."
   ]
  },
  {
   "cell_type": "code",
   "execution_count": 6,
   "metadata": {
    "collapsed": false
   },
   "outputs": [
    {
     "data": {
      "text/html": [
       "<div>\n",
       "<table border=\"1\" class=\"dataframe\">\n",
       "  <thead>\n",
       "    <tr style=\"text-align: right;\">\n",
       "      <th></th>\n",
       "      <th>cat breeds</th>\n",
       "    </tr>\n",
       "  </thead>\n",
       "  <tbody>\n",
       "    <tr>\n",
       "      <th>0</th>\n",
       "      <td>Abyssinian</td>\n",
       "    </tr>\n",
       "    <tr>\n",
       "      <th>1</th>\n",
       "      <td>American Curl</td>\n",
       "    </tr>\n",
       "    <tr>\n",
       "      <th>2</th>\n",
       "      <td>American Shorthair</td>\n",
       "    </tr>\n",
       "    <tr>\n",
       "      <th>3</th>\n",
       "      <td>American Wirehair</td>\n",
       "    </tr>\n",
       "    <tr>\n",
       "      <th>4</th>\n",
       "      <td>Applehead Siamese</td>\n",
       "    </tr>\n",
       "  </tbody>\n",
       "</table>\n",
       "</div>"
      ],
      "text/plain": [
       "           cat breeds\n",
       "0          Abyssinian\n",
       "1       American Curl\n",
       "2  American Shorthair\n",
       "3   American Wirehair\n",
       "4   Applehead Siamese"
      ]
     },
     "execution_count": 6,
     "metadata": {},
     "output_type": "execute_result"
    }
   ],
   "source": [
    "cats_df = pf.breed_list('cat', return_df=True)\n",
    "cats_df.head()"
   ]
  },
  {
   "cell_type": "markdown",
   "metadata": {},
   "source": [
    "Please note the coercion to a pandas DataFrame removes the metadata returned in the JSON format to make the conversion process more efficient and straightforward."
   ]
  },
  {
   "cell_type": "markdown",
   "metadata": {},
   "source": [
    "According to Petfinder's API documentation, the available animals to search are ['barnyard', 'bird', 'cat', 'dog', 'horse', 'reptile', 'smallfurry']. Searching for an animal not available in the Petfinder database will return a JSON object with a message stating 'invalid arguments'."
   ]
  },
  {
   "cell_type": "code",
   "execution_count": 7,
   "metadata": {
    "collapsed": false
   },
   "outputs": [
    {
     "data": {
      "text/plain": [
       "{'@encoding': 'iso-8859-1',\n",
       " '@version': '1.0',\n",
       " 'petfinder': {'@xmlns:xsi': 'http://www.w3.org/2001/XMLSchema-instance',\n",
       "  '@xsi:noNamespaceSchemaLocation': 'http://api.petfinder.com/schemas/0.9/petfinder.xsd',\n",
       "  'header': {'status': {'code': {'$t': '200'},\n",
       "    'message': {'$t': 'invalid arguments'}},\n",
       "   'timestamp': {'$t': '2017-11-18T16:24:17Z'},\n",
       "   'version': {'$t': '0.1'}}}}"
      ]
     },
     "execution_count": 7,
     "metadata": {},
     "output_type": "execute_result"
    }
   ],
   "source": [
    "pf.breed_list('zebra')"
   ]
  },
  {
   "cell_type": "markdown",
   "metadata": {},
   "source": [
    "<a id='pet.getRandom'></a>"
   ]
  },
  {
   "cell_type": "markdown",
   "metadata": {},
   "source": [
    "### Returning random Petfinder pet records"
   ]
  },
  {
   "cell_type": "markdown",
   "metadata": {},
   "source": [
    "The `petpy` method `pet_getRandom()` provides a wrapper for the Petfinder `pet.getRandom` method. The potential results can be filtered to a subset by the method parameters, otherwise the method can be called simply as:"
   ]
  },
  {
   "cell_type": "code",
   "execution_count": 8,
   "metadata": {
    "collapsed": false
   },
   "outputs": [
    {
     "data": {
      "text/plain": [
       "{'@encoding': 'iso-8859-1',\n",
       " '@version': '1.0',\n",
       " 'petfinder': {'@xmlns:xsi': 'http://www.w3.org/2001/XMLSchema-instance',\n",
       "  '@xsi:noNamespaceSchemaLocation': 'http://api.petfinder.com/schemas/0.9/petfinder.xsd',\n",
       "  'header': {'status': {'code': {'$t': '100'}, 'message': {}},\n",
       "   'timestamp': {'$t': '2017-11-18T16:24:17Z'},\n",
       "   'version': {'$t': '0.1'}},\n",
       "  'petIds': {'id': {'$t': '26417898'}}}}"
      ]
     },
     "execution_count": 8,
     "metadata": {},
     "output_type": "execute_result"
    }
   ],
   "source": [
    "pf.pet_getRandom()"
   ]
  },
  {
   "cell_type": "markdown",
   "metadata": {},
   "source": [
    "The default record output contains only the pet record's ID and the call's JSON metadata. If we wish to return a more complete random pet record, we can set the parameter `output` to `basic` (name, age, animal, breed, shelterID) or `full` (complete record with description)."
   ]
  },
  {
   "cell_type": "code",
   "execution_count": 9,
   "metadata": {
    "collapsed": false
   },
   "outputs": [
    {
     "data": {
      "text/plain": [
       "{'@encoding': 'iso-8859-1',\n",
       " '@version': '1.0',\n",
       " 'petfinder': {'@xmlns:xsi': 'http://www.w3.org/2001/XMLSchema-instance',\n",
       "  '@xsi:noNamespaceSchemaLocation': 'http://api.petfinder.com/schemas/0.9/petfinder.xsd',\n",
       "  'header': {'status': {'code': {'$t': '100'}, 'message': {}},\n",
       "   'timestamp': {'$t': '2017-11-18T16:24:18Z'},\n",
       "   'version': {'$t': '0.1'}},\n",
       "  'pet': {'age': {'$t': 'Young'},\n",
       "   'animal': {'$t': 'Dog'},\n",
       "   'breeds': {'breed': [{'$t': 'Labrador Retriever'}, {'$t': 'Terrier'}]},\n",
       "   'contact': {'address1': {},\n",
       "    'address2': {},\n",
       "    'city': {'$t': 'Scranton'},\n",
       "    'email': {'$t': 'OLTLrescue@gmail.com'},\n",
       "    'fax': {},\n",
       "    'phone': {'$t': '570-341-1997   '},\n",
       "    'state': {'$t': 'PA'},\n",
       "    'zip': {'$t': '18510'}},\n",
       "   'description': {'$t': \"Holy cow! This nice medium sized girl (45 lbs.) has a striking black and white coat that makes her look like a miniature cow! ! This two-year-old Lab? /Bully? Breed mix found herself at a high kill shelter in South Carolina after being surrendered by her owner. Testing heart-worm positive put Ladyâ\\x80\\x99s life at risk. And sure enough, after many months with no rescue or adopter interest, she ended up on the shelterâ\\x80\\x99s â\\x80\\x9cput to sleepâ\\x80\\x9d list. That is when we stepped in and provided rescue to this wonderful girl. The ball was then set in motion to provide Lady with the vetting she needed to regain her health. She was treated for her heart-worm disease on Sept. 27th and she is now on her way to, what we hope, is a long and  happy life. This lovely lady has been described as a very sweet girl.  She is social with other dogs and interested in sniffing and getting to know them in a friendly fashion. Lady was very happy to get out of her kennel for a walk and some time with people, which she enjoyed greatly.  She's a smiling, happy dog who would love nothing more than a forever home. She met some kitties and didn't seem interested in them.  What she IS interested in is finding a home that will cherish her for the rest of her days and include her in family fun and activities. Lady has already been spayed and she is current with vaccinations. She has also been micro-chipped. Her suggested adoption donation is $300 to help cover vet bills. Lady will be available for adoption on Sunday, Nov. 12th and we are taking applications for her now. You can apply at www.OneLifeToLiveRescue.com. Look Lady over and see if this sweet girl might be the one for you! \\n\"},\n",
       "   'id': {'$t': '39865603'},\n",
       "   'lastUpdate': {'$t': '2017-11-09T06:07:08Z'},\n",
       "   'media': {'photos': {'photo': [{'$t': 'http://photos.petfinder.com/photos/pets/39865603/1/?bust=1510206598&width=60&-pnt.jpg',\n",
       "       '@id': '1',\n",
       "       '@size': 'pnt'},\n",
       "      {'$t': 'http://photos.petfinder.com/photos/pets/39865603/1/?bust=1510206598&width=95&-fpm.jpg',\n",
       "       '@id': '1',\n",
       "       '@size': 'fpm'},\n",
       "      {'$t': 'http://photos.petfinder.com/photos/pets/39865603/1/?bust=1510206598&width=500&-x.jpg',\n",
       "       '@id': '1',\n",
       "       '@size': 'x'},\n",
       "      {'$t': 'http://photos.petfinder.com/photos/pets/39865603/1/?bust=1510206598&width=300&-pn.jpg',\n",
       "       '@id': '1',\n",
       "       '@size': 'pn'},\n",
       "      {'$t': 'http://photos.petfinder.com/photos/pets/39865603/1/?bust=1510206598&width=50&-t.jpg',\n",
       "       '@id': '1',\n",
       "       '@size': 't'},\n",
       "      {'$t': 'http://photos.petfinder.com/photos/pets/39865603/2/?bust=1510206610&width=60&-pnt.jpg',\n",
       "       '@id': '2',\n",
       "       '@size': 'pnt'},\n",
       "      {'$t': 'http://photos.petfinder.com/photos/pets/39865603/2/?bust=1510206610&width=95&-fpm.jpg',\n",
       "       '@id': '2',\n",
       "       '@size': 'fpm'},\n",
       "      {'$t': 'http://photos.petfinder.com/photos/pets/39865603/2/?bust=1510206610&width=500&-x.jpg',\n",
       "       '@id': '2',\n",
       "       '@size': 'x'},\n",
       "      {'$t': 'http://photos.petfinder.com/photos/pets/39865603/2/?bust=1510206610&width=300&-pn.jpg',\n",
       "       '@id': '2',\n",
       "       '@size': 'pn'},\n",
       "      {'$t': 'http://photos.petfinder.com/photos/pets/39865603/2/?bust=1510206610&width=50&-t.jpg',\n",
       "       '@id': '2',\n",
       "       '@size': 't'},\n",
       "      {'$t': 'http://photos.petfinder.com/photos/pets/39865603/3/?bust=1510206614&width=60&-pnt.jpg',\n",
       "       '@id': '3',\n",
       "       '@size': 'pnt'},\n",
       "      {'$t': 'http://photos.petfinder.com/photos/pets/39865603/3/?bust=1510206614&width=95&-fpm.jpg',\n",
       "       '@id': '3',\n",
       "       '@size': 'fpm'},\n",
       "      {'$t': 'http://photos.petfinder.com/photos/pets/39865603/3/?bust=1510206614&width=500&-x.jpg',\n",
       "       '@id': '3',\n",
       "       '@size': 'x'},\n",
       "      {'$t': 'http://photos.petfinder.com/photos/pets/39865603/3/?bust=1510206614&width=300&-pn.jpg',\n",
       "       '@id': '3',\n",
       "       '@size': 'pn'},\n",
       "      {'$t': 'http://photos.petfinder.com/photos/pets/39865603/3/?bust=1510206614&width=50&-t.jpg',\n",
       "       '@id': '3',\n",
       "       '@size': 't'},\n",
       "      {'$t': 'http://photos.petfinder.com/photos/pets/39865603/4/?bust=1510206619&width=60&-pnt.jpg',\n",
       "       '@id': '4',\n",
       "       '@size': 'pnt'},\n",
       "      {'$t': 'http://photos.petfinder.com/photos/pets/39865603/4/?bust=1510206619&width=95&-fpm.jpg',\n",
       "       '@id': '4',\n",
       "       '@size': 'fpm'},\n",
       "      {'$t': 'http://photos.petfinder.com/photos/pets/39865603/4/?bust=1510206619&width=500&-x.jpg',\n",
       "       '@id': '4',\n",
       "       '@size': 'x'},\n",
       "      {'$t': 'http://photos.petfinder.com/photos/pets/39865603/4/?bust=1510206619&width=300&-pn.jpg',\n",
       "       '@id': '4',\n",
       "       '@size': 'pn'},\n",
       "      {'$t': 'http://photos.petfinder.com/photos/pets/39865603/4/?bust=1510206619&width=50&-t.jpg',\n",
       "       '@id': '4',\n",
       "       '@size': 't'}]}},\n",
       "   'mix': {'$t': 'yes'},\n",
       "   'name': {'$t': 'Lady'},\n",
       "   'options': {'option': [{'$t': 'hasShots'},\n",
       "     {'$t': 'altered'},\n",
       "     {'$t': 'housetrained'}]},\n",
       "   'sex': {'$t': 'F'},\n",
       "   'shelterId': {'$t': 'PA697'},\n",
       "   'shelterPetId': {},\n",
       "   'size': {'$t': 'M'},\n",
       "   'status': {'$t': 'A'}}}}"
      ]
     },
     "execution_count": 9,
     "metadata": {},
     "output_type": "execute_result"
    }
   ],
   "source": [
    "pf.pet_getRandom(output='full')"
   ]
  },
  {
   "cell_type": "markdown",
   "metadata": {},
   "source": [
    "We can also pull a specified number of pet records from the API by setting the `records` parameter and return the collected results as a pandas DataFrame by setting `return_df` to `True`."
   ]
  },
  {
   "cell_type": "code",
   "execution_count": null,
   "metadata": {
    "collapsed": true
   },
   "outputs": [],
   "source": [
    "random_pet_df = pf.pet_getRandom(records=20, return_df=True)"
   ]
  },
  {
   "cell_type": "markdown",
   "metadata": {},
   "source": [
    "<a id='pet.get'></a>"
   ]
  },
  {
   "cell_type": "markdown",
   "metadata": {},
   "source": [
    "### Return a pet record associated with a specific petId"
   ]
  },
  {
   "cell_type": "code",
   "execution_count": null,
   "metadata": {
    "collapsed": true
   },
   "outputs": [],
   "source": []
  }
 ],
 "metadata": {
  "kernelspec": {
   "display_name": "Python 3",
   "language": "python",
   "name": "python3"
  },
  "language_info": {
   "codemirror_mode": {
    "name": "ipython",
    "version": 3
   },
   "file_extension": ".py",
   "mimetype": "text/x-python",
   "name": "python",
   "nbconvert_exporter": "python",
   "pygments_lexer": "ipython3",
   "version": "3.6.0"
  }
 },
 "nbformat": 4,
 "nbformat_minor": 2
}
